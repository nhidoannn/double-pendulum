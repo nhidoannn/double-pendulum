{
 "cells": [
  {
   "cell_type": "code",
   "execution_count": 2,
   "metadata": {},
   "outputs": [],
   "source": [
    "#based off of https://www.youtube.com/watch?v=8ZZDNd4eyVI video\n",
    "#maybe symbolically solving will help us"
   ]
  },
  {
   "cell_type": "code",
   "execution_count": 3,
   "metadata": {},
   "outputs": [],
   "source": [
    "import numpy as np\n",
    "import sympy as smp\n",
    "from scipy.integrate import odeint\n",
    "import matplotlib.pyplot as plt\n",
    "from matplotlib import animation\n",
    "from mpl_toolkits.mplot3d import Axes3D\n",
    "from matplotlib.animation import PillowWriter"
   ]
  },
  {
   "cell_type": "code",
   "execution_count": 4,
   "metadata": {},
   "outputs": [],
   "source": [
    "#defining symbols in sympy\n",
    "t, g = smp.symbols('t, g')\n",
    "m1, m2 = smp.symbols('m1, m2')\n",
    "L1, L2 = smp.symbols('L1, L2')\n",
    "theta, phi = smp.symbols(r'\\theta, \\phi', cls=smp.Function)\n",
    "theta = theta(t)\n",
    "phi = phi(t)"
   ]
  },
  {
   "cell_type": "code",
   "execution_count": 5,
   "metadata": {},
   "outputs": [],
   "source": [
    "#define derivatives\n",
    "theta_d = smp.diff(theta, t)\n",
    "phi_d = smp.diff(phi, t)\n",
    "theta_dd = smp.diff(theta_d, t)\n",
    "phi_dd = smp.diff(phi_d, t)"
   ]
  },
  {
   "cell_type": "code",
   "execution_count": 6,
   "metadata": {},
   "outputs": [],
   "source": [
    "#define positions of masses\n",
    "x1 = L1*smp.sin(theta)\n",
    "y1 = -L1*smp.cos(theta)\n",
    "x2 = x1 + L2*smp.sin(phi)\n",
    "y2 = y1 - L2*smp.cos(phi)"
   ]
  },
  {
   "cell_type": "code",
   "execution_count": 7,
   "metadata": {},
   "outputs": [],
   "source": [
    "#define energies of the masses\n",
    "T1 = 1/2*m1 * (smp.diff(x1, t)**2 + smp.diff(y1, t)**2)\n",
    "T2 = 1/2 * m2 * (smp.diff(x2, t)**2 + smp.diff(y2, t)**2)\n",
    "T = T1+T2\n",
    "\n",
    "V1 = m1 * g * y1\n",
    "V2 = m2 * g * y2\n",
    "V=V1+V2\n",
    "\n",
    "L = T-V"
   ]
  },
  {
   "cell_type": "code",
   "execution_count": 8,
   "metadata": {},
   "outputs": [],
   "source": [
    "#Develop ELeqns\n",
    "ELeq1 = smp.diff(L, theta) - smp.diff(smp.diff(L, theta_d), t).simplify()\n",
    "ELeq2 = smp.diff(L, phi) - smp.diff(smp.diff(L, phi_d), t).simplify()\n"
   ]
  },
  {
   "cell_type": "code",
   "execution_count": 9,
   "metadata": {},
   "outputs": [],
   "source": [
    "#get solutions for the 2nd order ODEs via the ELeqns\n",
    "sols = smp.solve ([ELeq1, ELeq2], (theta_dd, phi_dd), simplify=False, rational=False)"
   ]
  },
  {
   "cell_type": "code",
   "execution_count": 10,
   "metadata": {},
   "outputs": [],
   "source": [
    "dz1dt_f = smp.lambdify((t,g,m1,m2,L1,L2,theta,phi,theta_d,phi_d), sols[theta_dd])\n",
    "dz2dt_f = smp.lambdify((t,g,m1,m2,L1,L2,theta,phi,theta_d,phi_d), sols[phi_dd])\n",
    "dthdt_f = smp.lambdify(theta_d, theta_d)\n",
    "dphdt_f = smp.lambdify(phi_d, phi_d)"
   ]
  },
  {
   "cell_type": "code",
   "execution_count": 11,
   "metadata": {},
   "outputs": [],
   "source": [
    "#define S vector\n",
    "#S is a function of theta, theta_d, phi, phi_d\n",
    "def dSdt(S,t,g,m1,m2,L1,L2):\n",
    "    theta, theta_d, phi, phi_d = S\n",
    "    return [\n",
    "        dthdt_f(theta_d), \n",
    "        dz1dt_f(t,g,m1,m2,L1,L2,theta,phi,theta_d,phi_d),\n",
    "        dphdt_f(phi_d),\n",
    "        dz2dt_f(t,g,m1,m2,L1,L2,theta,phi,theta_d,phi_d),\n",
    "        ]"
   ]
  },
  {
   "cell_type": "code",
   "execution_count": 21,
   "metadata": {},
   "outputs": [
    {
     "name": "stderr",
     "output_type": "stream",
     "text": [
      "/opt/anaconda3/lib/python3.9/site-packages/scipy/integrate/odepack.py:247: ODEintWarning: Excess work done on this call (perhaps wrong Dfun type). Run with full_output = 1 to get quantitative information.\n",
      "  warnings.warn(warning_msg, ODEintWarning)\n"
     ]
    }
   ],
   "source": [
    "t = np.linspace(0, 1000)\n",
    "g = 9.81\n",
    "m1=10\n",
    "m2=1\n",
    "L1 = 1 #keep L1=L2\n",
    "L2 = 1 #keep L1=L2\n",
    "ans = odeint(dSdt, y0=[-np.pi/12, 0, np.pi/12, 0], t=t, args=(g, m1, m2, L1, L2))"
   ]
  },
  {
   "cell_type": "code",
   "execution_count": 22,
   "metadata": {},
   "outputs": [],
   "source": [
    "theta = ans.T[0]\n",
    "v_theta = ans.T[1]\n",
    "phi = ans.T[2]\n",
    "v_phi = ans.T[3]"
   ]
  },
  {
   "cell_type": "code",
   "execution_count": 23,
   "metadata": {},
   "outputs": [
    {
     "data": {
      "image/png": "[encoded data removed]",
      "text/plain": [
       "<Figure size 432x288 with 1 Axes>"
      ]
     },
     "metadata": {
      "needs_background": "light"
     },
     "output_type": "display_data"
    }
   ],
   "source": [
    "plt.plot(t, phi, c='black', lw=1)\n",
    "plt.plot(t, theta, c='crimson', lw=1)\n",
    "plt.xlabel('t (s)')\n",
    "plt.ylabel('angle (rad)')\n",
    "plt.legend((r'$\\phi$', r'$\\theta$'))\n",
    "plt.show()"
   ]
  }
 ],
 "metadata": {
  "kernelspec": {
   "display_name": "base",
   "language": "python",
   "name": "python3"
  },
  "language_info": {
   "codemirror_mode": {
    "name": "ipython",
    "version": 3
   },
   "file_extension": ".py",
   "mimetype": "text/x-python",
   "name": "python",
   "nbconvert_exporter": "python",
   "pygments_lexer": "ipython3",
   "version": "3.9.12"
  }
 },
 "nbformat": 4,
 "nbformat_minor": 2
}
