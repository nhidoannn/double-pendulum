{
 "cells": [
  {
   "cell_type": "code",
   "execution_count": null,
   "metadata": {},
   "outputs": [],
   "source": [
    "#based off of https://www.youtube.com/watch?v=8ZZDNd4eyVI video\n",
    "#maybe symbolically solving will help us"
   ]
  },
  {
   "cell_type": "code",
   "execution_count": 1,
   "metadata": {},
   "outputs": [],
   "source": [
    "import numpy as np\n",
    "import sympy as smp\n",
    "from scipy.integrate import odeint\n",
    "import matplotlib.pyplot as plt\n",
    "from matplotlib import animation\n",
    "from mpl_toolkits.mplot3d import Axes3D\n",
    "from matplotlib.animation import PillowWriter"
   ]
  },
  {
   "cell_type": "code",
   "execution_count": 5,
   "metadata": {},
   "outputs": [],
   "source": [
    "#defining symbols in sympy\n",
    "t, g = smp.symbols('t, g')\n",
    "m1, m2 = smp.symbols('m1, m2')\n",
    "L1, L2 = smp.symbols('L1, L2')\n",
    "theta, phi = smp.symbols(r'\\theta, \\phi', cls=smp.Function)\n",
    "theta = theta(t)\n",
    "phi = phi(t)"
   ]
  },
  {
   "cell_type": "code",
   "execution_count": 8,
   "metadata": {},
   "outputs": [],
   "source": [
    "#define derivatives\n",
    "theta_d = smp.diff(theta, t)\n",
    "phi_d = smp.diff(phi, t)\n",
    "theta_dd = smp.diff(theta_d, t)\n",
    "phi_dd = smp.diff(phi_d, t)"
   ]
  },
  {
   "cell_type": "code",
   "execution_count": 9,
   "metadata": {},
   "outputs": [],
   "source": [
    "#define positions of masses\n",
    "x1 = L1*smp.sin(theta)\n",
    "y1 = -L1*smp.cos(theta)\n",
    "x2 = x1 + L2*smp.sin(phi)\n",
    "y2 = y1 - L2*smp.cos(phi)"
   ]
  },
  {
   "cell_type": "code",
   "execution_count": 12,
   "metadata": {},
   "outputs": [],
   "source": [
    "#define energies of the masses\n",
    "T1 = 1/2*m1 * (smp.diff(x1, t)**2 + smp.diff(y1, t)**2)\n",
    "T2 = 1/2 * m2 * (smp.diff(x2, t)**2 + smp.diff(y2, t)**2)\n",
    "T = T1+T2\n",
    "\n",
    "V1 = m1 * g * y1\n",
    "V2 = m2 * g * y2\n",
    "V=V1+V2\n",
    "\n",
    "L = T-V"
   ]
  },
  {
   "cell_type": "code",
   "execution_count": 17,
   "metadata": {},
   "outputs": [],
   "source": [
    "#Develop ELeqns\n",
    "ELeq1 = smp.diff(L, theta) - smp.diff(smp.diff(L, theta_d), t).simplify()\n",
    "ELeq2 = smp.diff(L, phi) - smp.diff(smp.diff(L, phi_d), t).simplify()\n"
   ]
  },
  {
   "cell_type": "code",
   "execution_count": null,
   "metadata": {},
   "outputs": [],
   "source": [
    "#get solutions for the 2nd order ODEs via the ELeqns"
   ]
  }
 ],
 "metadata": {
  "kernelspec": {
   "display_name": "base",
   "language": "python",
   "name": "python3"
  },
  "language_info": {
   "codemirror_mode": {
    "name": "ipython",
    "version": 3
   },
   "file_extension": ".py",
   "mimetype": "text/x-python",
   "name": "python",
   "nbconvert_exporter": "python",
   "pygments_lexer": "ipython3",
   "version": "3.9.12"
  }
 },
 "nbformat": 4,
 "nbformat_minor": 2
}
