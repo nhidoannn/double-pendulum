{
 "cells": [
  {
   "cell_type": "code",
   "execution_count": 4,
   "metadata": {},
   "outputs": [],
   "source": [
    "import numpy as np\n",
    "import matplotlib.pyplot as plt\n",
    "\n",
    "from scipy.optimize import fsolve\n",
    "from scipy.integrate import odeint"
   ]
  },
  {
   "cell_type": "code",
   "execution_count": 10,
   "metadata": {},
   "outputs": [
    {
     "ename": "UnboundLocalError",
     "evalue": "local variable 'd2theta' referenced before assignment",
     "output_type": "error",
     "traceback": [
      "\u001b[1;31m---------------------------------------------------------------------------\u001b[0m",
      "\u001b[1;31mUnboundLocalError\u001b[0m                         Traceback (most recent call last)",
      "\u001b[1;32mc:\\Users\\Nhi\\double-pendulum\\double-pendulum.ipynb Cell 3\u001b[0m line \u001b[0;36m2\n\u001b[0;32m     <a href='vscode-notebook-cell:/c%3A/Users/Nhi/double-pendulum/double-pendulum.ipynb#W3sZmlsZQ%3D%3D?line=16'>17</a>\u001b[0m dtheta0 \u001b[39m=\u001b[39m \u001b[39m1.3\u001b[39m\n\u001b[0;32m     <a href='vscode-notebook-cell:/c%3A/Users/Nhi/double-pendulum/double-pendulum.ipynb#W3sZmlsZQ%3D%3D?line=17'>18</a>\u001b[0m t \u001b[39m=\u001b[39m np\u001b[39m.\u001b[39mlinspace(\u001b[39m-\u001b[39m\u001b[39m10\u001b[39m, \u001b[39m10\u001b[39m)\n\u001b[1;32m---> <a href='vscode-notebook-cell:/c%3A/Users/Nhi/double-pendulum/double-pendulum.ipynb#W3sZmlsZQ%3D%3D?line=19'>20</a>\u001b[0m phi_position, theta_position, phi_velocity, theta_velocity \u001b[39m=\u001b[39m odeint(model, [phi0, theta0, dphi0, dtheta0], t)\u001b[39m.\u001b[39mT\n",
      "File \u001b[1;32mc:\\Users\\Nhi\\AppData\\Local\\Programs\\Python\\Python310\\lib\\site-packages\\scipy\\integrate\\_odepack_py.py:241\u001b[0m, in \u001b[0;36modeint\u001b[1;34m(func, y0, t, args, Dfun, col_deriv, full_output, ml, mu, rtol, atol, tcrit, h0, hmax, hmin, ixpr, mxstep, mxhnil, mxordn, mxords, printmessg, tfirst)\u001b[0m\n\u001b[0;32m    239\u001b[0m t \u001b[39m=\u001b[39m copy(t)\n\u001b[0;32m    240\u001b[0m y0 \u001b[39m=\u001b[39m copy(y0)\n\u001b[1;32m--> 241\u001b[0m output \u001b[39m=\u001b[39m _odepack\u001b[39m.\u001b[39;49modeint(func, y0, t, args, Dfun, col_deriv, ml, mu,\n\u001b[0;32m    242\u001b[0m                          full_output, rtol, atol, tcrit, h0, hmax, hmin,\n\u001b[0;32m    243\u001b[0m                          ixpr, mxstep, mxhnil, mxordn, mxords,\n\u001b[0;32m    244\u001b[0m                          \u001b[39mint\u001b[39;49m(\u001b[39mbool\u001b[39;49m(tfirst)))\n\u001b[0;32m    245\u001b[0m \u001b[39mif\u001b[39;00m output[\u001b[39m-\u001b[39m\u001b[39m1\u001b[39m] \u001b[39m<\u001b[39m \u001b[39m0\u001b[39m:\n\u001b[0;32m    246\u001b[0m     warning_msg \u001b[39m=\u001b[39m _msgs[output[\u001b[39m-\u001b[39m\u001b[39m1\u001b[39m]] \u001b[39m+\u001b[39m \u001b[39m\"\u001b[39m\u001b[39m Run with full_output = 1 to get quantitative information.\u001b[39m\u001b[39m\"\u001b[39m\n",
      "\u001b[1;32mc:\\Users\\Nhi\\double-pendulum\\double-pendulum.ipynb Cell 3\u001b[0m line \u001b[0;36m1\n\u001b[0;32m      <a href='vscode-notebook-cell:/c%3A/Users/Nhi/double-pendulum/double-pendulum.ipynb#W3sZmlsZQ%3D%3D?line=7'>8</a>\u001b[0m \u001b[39mdef\u001b[39;00m \u001b[39mmodel\u001b[39m(x, t):\n\u001b[0;32m      <a href='vscode-notebook-cell:/c%3A/Users/Nhi/double-pendulum/double-pendulum.ipynb#W3sZmlsZQ%3D%3D?line=8'>9</a>\u001b[0m     phi, theta, dphi, dtheta \u001b[39m=\u001b[39m x\n\u001b[1;32m---> <a href='vscode-notebook-cell:/c%3A/Users/Nhi/double-pendulum/double-pendulum.ipynb#W3sZmlsZQ%3D%3D?line=9'>10</a>\u001b[0m     d2phi \u001b[39m=\u001b[39m \u001b[39m-\u001b[39m d2theta\u001b[39m*\u001b[39mnp\u001b[39m.\u001b[39mcos(theta\u001b[39m-\u001b[39mphi) \u001b[39m+\u001b[39m dtheta\u001b[39m*\u001b[39m\u001b[39m*\u001b[39m\u001b[39m2\u001b[39m\u001b[39m*\u001b[39mnp\u001b[39m.\u001b[39msin(theta\u001b[39m-\u001b[39mphi) \u001b[39m-\u001b[39m np\u001b[39m.\u001b[39msin(phi)\n\u001b[0;32m     <a href='vscode-notebook-cell:/c%3A/Users/Nhi/double-pendulum/double-pendulum.ipynb#W3sZmlsZQ%3D%3D?line=10'>11</a>\u001b[0m     d2theta \u001b[39m=\u001b[39m \u001b[39m-\u001b[39m m\u001b[39m/\u001b[39m(M\u001b[39m+\u001b[39mm)\u001b[39m*\u001b[39md2phi\u001b[39m*\u001b[39mnp\u001b[39m.\u001b[39mcos(theta\u001b[39m-\u001b[39mphi) \u001b[39m-\u001b[39m m\u001b[39m/\u001b[39m(M\u001b[39m+\u001b[39mm)\u001b[39m*\u001b[39mdphi\u001b[39m*\u001b[39m\u001b[39m*\u001b[39m\u001b[39m2\u001b[39m\u001b[39m*\u001b[39mnp\u001b[39m.\u001b[39msin(theta\u001b[39m-\u001b[39mphi) \u001b[39m-\u001b[39m np\u001b[39m.\u001b[39msin(theta)\n\u001b[0;32m     <a href='vscode-notebook-cell:/c%3A/Users/Nhi/double-pendulum/double-pendulum.ipynb#W3sZmlsZQ%3D%3D?line=11'>12</a>\u001b[0m     \u001b[39mreturn\u001b[39;00m [dphi, dtheta, d2phi, d2theta]\n",
      "\u001b[1;31mUnboundLocalError\u001b[0m: local variable 'd2theta' referenced before assignment"
     ]
    }
   ],
   "source": [
    "# define phi[1] = dphi/dtau, phi[0] = phi\n",
    "# define theta[1] = dtheta/dtau, theta[0] = theta\n",
    "# ODE becomes two ODEs: phi[1] = dphi/dtau and d/dt(phi[1]) = - d/dt(theta[1])*cos(theta-phi) + (theta[1])^2*sin(theta-phi) - sin(phi)\n",
    "\n",
    "m = 1\n",
    "M = 5\n",
    "\n",
    "def model(x, t):\n",
    "    phi, theta, v_phi, v_theta = x\n",
    "    f1 = np.cos(theta-phi)\n",
    "    f2 = m/(M+m)*np.cos(theta-phi)\n",
    "    g1 = (v_theta**2)*np.sin(theta-phi) - np.sin(phi)\n",
    "    g2 = (v_phi**2)*(-m/(M+m)*np.sin(theta-phi)) - np.sin(theta)\n",
    "    a_phi = (g1-f1*g2) / (1-f1*f2)\n",
    "    a_theta = (-f2*g1+g2) / (1-f1*f2)\n",
    "    return [v_phi, v_theta, a_phi, a_theta]\n",
    "\n",
    "phi0 = 0\n",
    "theta0 = 0.3\n",
    "dphi0 = 0.5\n",
    "dtheta0 = 1.3\n",
    "t = np.linspace(-10, 10)\n",
    "\n",
    "phi_position, theta_position, phi_velocity, theta_velocity = odeint(model, [phi0, theta0, dphi0, dtheta0], t).T"
   ]
  },
  {
   "cell_type": "markdown",
   "metadata": {},
   "source": [
    "Dimensionless E-L equation for theta"
   ]
  }
 ],
 "metadata": {
  "kernelspec": {
   "display_name": "Python 3",
   "language": "python",
   "name": "python3"
  },
  "language_info": {
   "codemirror_mode": {
    "name": "ipython",
    "version": 3
   },
   "file_extension": ".py",
   "mimetype": "text/x-python",
   "name": "python",
   "nbconvert_exporter": "python",
   "pygments_lexer": "ipython3",
   "version": "3.10.5"
  }
 },
 "nbformat": 4,
 "nbformat_minor": 2
}
