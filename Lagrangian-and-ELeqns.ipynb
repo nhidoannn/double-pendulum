{
 "cells": [
  {
   "cell_type": "markdown",
   "metadata": {},
   "source": [
    "This whole notebook is no longer relevent. For updated ODEs and forms use other notebook\n"
   ]
  },
  {
   "cell_type": "code",
   "execution_count": 2,
   "metadata": {},
   "outputs": [],
   "source": [
    "import numpy as np\n",
    "import scipy\n",
    "from scipy.optimize import fsolve\n",
    "from scipy.integrate import odeint\n"
   ]
  },
  {
   "cell_type": "code",
   "execution_count": 7,
   "metadata": {},
   "outputs": [
    {
     "name": "stderr",
     "output_type": "stream",
     "text": [
      "<>:14: SyntaxWarning: 'float' object is not callable; perhaps you missed a comma?\n",
      "<>:14: SyntaxWarning: 'float' object is not callable; perhaps you missed a comma?\n",
      "<>:14: SyntaxWarning: 'int' object is not callable; perhaps you missed a comma?\n",
      "<>:14: SyntaxWarning: 'float' object is not callable; perhaps you missed a comma?\n",
      "<>:14: SyntaxWarning: 'float' object is not callable; perhaps you missed a comma?\n",
      "<>:14: SyntaxWarning: 'int' object is not callable; perhaps you missed a comma?\n",
      "/var/folders/g6/0x4mf2h529s2pftxt2wp36n00000gn/T/ipykernel_15555/3079704846.py:14: SyntaxWarning: 'float' object is not callable; perhaps you missed a comma?\n",
      "  T=0.5(M)(l**2)((theta)**2)+0.5(m)(l**2)(((theta_dot**2)) +(phi_dot**2) + 2(theta_dot)(phi_dot)(np.cos(theta-phi)))\n",
      "/var/folders/g6/0x4mf2h529s2pftxt2wp36n00000gn/T/ipykernel_15555/3079704846.py:14: SyntaxWarning: 'float' object is not callable; perhaps you missed a comma?\n",
      "  T=0.5(M)(l**2)((theta)**2)+0.5(m)(l**2)(((theta_dot**2)) +(phi_dot**2) + 2(theta_dot)(phi_dot)(np.cos(theta-phi)))\n",
      "/var/folders/g6/0x4mf2h529s2pftxt2wp36n00000gn/T/ipykernel_15555/3079704846.py:14: SyntaxWarning: 'int' object is not callable; perhaps you missed a comma?\n",
      "  T=0.5(M)(l**2)((theta)**2)+0.5(m)(l**2)(((theta_dot**2)) +(phi_dot**2) + 2(theta_dot)(phi_dot)(np.cos(theta-phi)))\n",
      "/var/folders/g6/0x4mf2h529s2pftxt2wp36n00000gn/T/ipykernel_15555/3079704846.py:14: SyntaxWarning: 'float' object is not callable; perhaps you missed a comma?\n",
      "  T=0.5(M)(l**2)((theta)**2)+0.5(m)(l**2)(((theta_dot**2)) +(phi_dot**2) + 2(theta_dot)(phi_dot)(np.cos(theta-phi)))\n",
      "/var/folders/g6/0x4mf2h529s2pftxt2wp36n00000gn/T/ipykernel_15555/3079704846.py:14: SyntaxWarning: 'float' object is not callable; perhaps you missed a comma?\n",
      "  T=0.5(M)(l**2)((theta)**2)+0.5(m)(l**2)(((theta_dot**2)) +(phi_dot**2) + 2(theta_dot)(phi_dot)(np.cos(theta-phi)))\n",
      "/var/folders/g6/0x4mf2h529s2pftxt2wp36n00000gn/T/ipykernel_15555/3079704846.py:14: SyntaxWarning: 'int' object is not callable; perhaps you missed a comma?\n",
      "  T=0.5(M)(l**2)((theta)**2)+0.5(m)(l**2)(((theta_dot**2)) +(phi_dot**2) + 2(theta_dot)(phi_dot)(np.cos(theta-phi)))\n",
      "/var/folders/g6/0x4mf2h529s2pftxt2wp36n00000gn/T/ipykernel_15555/3079704846.py:14: SyntaxWarning: 'float' object is not callable; perhaps you missed a comma?\n",
      "  T=0.5(M)(l**2)((theta)**2)+0.5(m)(l**2)(((theta_dot**2)) +(phi_dot**2) + 2(theta_dot)(phi_dot)(np.cos(theta-phi)))\n",
      "/var/folders/g6/0x4mf2h529s2pftxt2wp36n00000gn/T/ipykernel_15555/3079704846.py:14: SyntaxWarning: 'float' object is not callable; perhaps you missed a comma?\n",
      "  T=0.5(M)(l**2)((theta)**2)+0.5(m)(l**2)(((theta_dot**2)) +(phi_dot**2) + 2(theta_dot)(phi_dot)(np.cos(theta-phi)))\n",
      "/var/folders/g6/0x4mf2h529s2pftxt2wp36n00000gn/T/ipykernel_15555/3079704846.py:14: SyntaxWarning: 'int' object is not callable; perhaps you missed a comma?\n",
      "  T=0.5(M)(l**2)((theta)**2)+0.5(m)(l**2)(((theta_dot**2)) +(phi_dot**2) + 2(theta_dot)(phi_dot)(np.cos(theta-phi)))\n",
      "/var/folders/g6/0x4mf2h529s2pftxt2wp36n00000gn/T/ipykernel_15555/3079704846.py:14: SyntaxWarning: 'float' object is not callable; perhaps you missed a comma?\n",
      "  T=0.5(M)(l**2)((theta)**2)+0.5(m)(l**2)(((theta_dot**2)) +(phi_dot**2) + 2(theta_dot)(phi_dot)(np.cos(theta-phi)))\n",
      "/var/folders/g6/0x4mf2h529s2pftxt2wp36n00000gn/T/ipykernel_15555/3079704846.py:14: SyntaxWarning: 'float' object is not callable; perhaps you missed a comma?\n",
      "  T=0.5(M)(l**2)((theta)**2)+0.5(m)(l**2)(((theta_dot**2)) +(phi_dot**2) + 2(theta_dot)(phi_dot)(np.cos(theta-phi)))\n",
      "/var/folders/g6/0x4mf2h529s2pftxt2wp36n00000gn/T/ipykernel_15555/3079704846.py:14: SyntaxWarning: 'int' object is not callable; perhaps you missed a comma?\n",
      "  T=0.5(M)(l**2)((theta)**2)+0.5(m)(l**2)(((theta_dot**2)) +(phi_dot**2) + 2(theta_dot)(phi_dot)(np.cos(theta-phi)))\n",
      "/var/folders/g6/0x4mf2h529s2pftxt2wp36n00000gn/T/ipykernel_15555/3079704846.py:14: SyntaxWarning: 'float' object is not callable; perhaps you missed a comma?\n",
      "  T=0.5(M)(l**2)((theta)**2)+0.5(m)(l**2)(((theta_dot**2)) +(phi_dot**2) + 2(theta_dot)(phi_dot)(np.cos(theta-phi)))\n",
      "/var/folders/g6/0x4mf2h529s2pftxt2wp36n00000gn/T/ipykernel_15555/3079704846.py:14: SyntaxWarning: 'float' object is not callable; perhaps you missed a comma?\n",
      "  T=0.5(M)(l**2)((theta)**2)+0.5(m)(l**2)(((theta_dot**2)) +(phi_dot**2) + 2(theta_dot)(phi_dot)(np.cos(theta-phi)))\n",
      "/var/folders/g6/0x4mf2h529s2pftxt2wp36n00000gn/T/ipykernel_15555/3079704846.py:14: SyntaxWarning: 'int' object is not callable; perhaps you missed a comma?\n",
      "  T=0.5(M)(l**2)((theta)**2)+0.5(m)(l**2)(((theta_dot**2)) +(phi_dot**2) + 2(theta_dot)(phi_dot)(np.cos(theta-phi)))\n",
      "/var/folders/g6/0x4mf2h529s2pftxt2wp36n00000gn/T/ipykernel_15555/3079704846.py:14: SyntaxWarning: 'float' object is not callable; perhaps you missed a comma?\n",
      "  T=0.5(M)(l**2)((theta)**2)+0.5(m)(l**2)(((theta_dot**2)) +(phi_dot**2) + 2(theta_dot)(phi_dot)(np.cos(theta-phi)))\n",
      "/var/folders/g6/0x4mf2h529s2pftxt2wp36n00000gn/T/ipykernel_15555/3079704846.py:14: SyntaxWarning: 'float' object is not callable; perhaps you missed a comma?\n",
      "  T=0.5(M)(l**2)((theta)**2)+0.5(m)(l**2)(((theta_dot**2)) +(phi_dot**2) + 2(theta_dot)(phi_dot)(np.cos(theta-phi)))\n",
      "/var/folders/g6/0x4mf2h529s2pftxt2wp36n00000gn/T/ipykernel_15555/3079704846.py:14: SyntaxWarning: 'int' object is not callable; perhaps you missed a comma?\n",
      "  T=0.5(M)(l**2)((theta)**2)+0.5(m)(l**2)(((theta_dot**2)) +(phi_dot**2) + 2(theta_dot)(phi_dot)(np.cos(theta-phi)))\n",
      "/var/folders/g6/0x4mf2h529s2pftxt2wp36n00000gn/T/ipykernel_15555/3079704846.py:14: SyntaxWarning: 'float' object is not callable; perhaps you missed a comma?\n",
      "  T=0.5(M)(l**2)((theta)**2)+0.5(m)(l**2)(((theta_dot**2)) +(phi_dot**2) + 2(theta_dot)(phi_dot)(np.cos(theta-phi)))\n",
      "/var/folders/g6/0x4mf2h529s2pftxt2wp36n00000gn/T/ipykernel_15555/3079704846.py:14: SyntaxWarning: 'float' object is not callable; perhaps you missed a comma?\n",
      "  T=0.5(M)(l**2)((theta)**2)+0.5(m)(l**2)(((theta_dot**2)) +(phi_dot**2) + 2(theta_dot)(phi_dot)(np.cos(theta-phi)))\n",
      "/var/folders/g6/0x4mf2h529s2pftxt2wp36n00000gn/T/ipykernel_15555/3079704846.py:14: SyntaxWarning: 'int' object is not callable; perhaps you missed a comma?\n",
      "  T=0.5(M)(l**2)((theta)**2)+0.5(m)(l**2)(((theta_dot**2)) +(phi_dot**2) + 2(theta_dot)(phi_dot)(np.cos(theta-phi)))\n",
      "/var/folders/g6/0x4mf2h529s2pftxt2wp36n00000gn/T/ipykernel_15555/3079704846.py:14: SyntaxWarning: 'float' object is not callable; perhaps you missed a comma?\n",
      "  T=0.5(M)(l**2)((theta)**2)+0.5(m)(l**2)(((theta_dot**2)) +(phi_dot**2) + 2(theta_dot)(phi_dot)(np.cos(theta-phi)))\n",
      "/var/folders/g6/0x4mf2h529s2pftxt2wp36n00000gn/T/ipykernel_15555/3079704846.py:14: SyntaxWarning: 'float' object is not callable; perhaps you missed a comma?\n",
      "  T=0.5(M)(l**2)((theta)**2)+0.5(m)(l**2)(((theta_dot**2)) +(phi_dot**2) + 2(theta_dot)(phi_dot)(np.cos(theta-phi)))\n",
      "/var/folders/g6/0x4mf2h529s2pftxt2wp36n00000gn/T/ipykernel_15555/3079704846.py:14: SyntaxWarning: 'int' object is not callable; perhaps you missed a comma?\n",
      "  T=0.5(M)(l**2)((theta)**2)+0.5(m)(l**2)(((theta_dot**2)) +(phi_dot**2) + 2(theta_dot)(phi_dot)(np.cos(theta-phi)))\n",
      "/var/folders/g6/0x4mf2h529s2pftxt2wp36n00000gn/T/ipykernel_15555/3079704846.py:14: SyntaxWarning: 'float' object is not callable; perhaps you missed a comma?\n",
      "  T=0.5(M)(l**2)((theta)**2)+0.5(m)(l**2)(((theta_dot**2)) +(phi_dot**2) + 2(theta_dot)(phi_dot)(np.cos(theta-phi)))\n",
      "/var/folders/g6/0x4mf2h529s2pftxt2wp36n00000gn/T/ipykernel_15555/3079704846.py:14: SyntaxWarning: 'float' object is not callable; perhaps you missed a comma?\n",
      "  T=0.5(M)(l**2)((theta)**2)+0.5(m)(l**2)(((theta_dot**2)) +(phi_dot**2) + 2(theta_dot)(phi_dot)(np.cos(theta-phi)))\n",
      "/var/folders/g6/0x4mf2h529s2pftxt2wp36n00000gn/T/ipykernel_15555/3079704846.py:14: SyntaxWarning: 'int' object is not callable; perhaps you missed a comma?\n",
      "  T=0.5(M)(l**2)((theta)**2)+0.5(m)(l**2)(((theta_dot**2)) +(phi_dot**2) + 2(theta_dot)(phi_dot)(np.cos(theta-phi)))\n",
      "/var/folders/g6/0x4mf2h529s2pftxt2wp36n00000gn/T/ipykernel_15555/3079704846.py:14: SyntaxWarning: 'float' object is not callable; perhaps you missed a comma?\n",
      "  T=0.5(M)(l**2)((theta)**2)+0.5(m)(l**2)(((theta_dot**2)) +(phi_dot**2) + 2(theta_dot)(phi_dot)(np.cos(theta-phi)))\n",
      "/var/folders/g6/0x4mf2h529s2pftxt2wp36n00000gn/T/ipykernel_15555/3079704846.py:14: SyntaxWarning: 'float' object is not callable; perhaps you missed a comma?\n",
      "  T=0.5(M)(l**2)((theta)**2)+0.5(m)(l**2)(((theta_dot**2)) +(phi_dot**2) + 2(theta_dot)(phi_dot)(np.cos(theta-phi)))\n",
      "/var/folders/g6/0x4mf2h529s2pftxt2wp36n00000gn/T/ipykernel_15555/3079704846.py:14: SyntaxWarning: 'int' object is not callable; perhaps you missed a comma?\n",
      "  T=0.5(M)(l**2)((theta)**2)+0.5(m)(l**2)(((theta_dot**2)) +(phi_dot**2) + 2(theta_dot)(phi_dot)(np.cos(theta-phi)))\n",
      "/var/folders/g6/0x4mf2h529s2pftxt2wp36n00000gn/T/ipykernel_15555/3079704846.py:14: SyntaxWarning: 'float' object is not callable; perhaps you missed a comma?\n",
      "  T=0.5(M)(l**2)((theta)**2)+0.5(m)(l**2)(((theta_dot**2)) +(phi_dot**2) + 2(theta_dot)(phi_dot)(np.cos(theta-phi)))\n",
      "/var/folders/g6/0x4mf2h529s2pftxt2wp36n00000gn/T/ipykernel_15555/3079704846.py:14: SyntaxWarning: 'float' object is not callable; perhaps you missed a comma?\n",
      "  T=0.5(M)(l**2)((theta)**2)+0.5(m)(l**2)(((theta_dot**2)) +(phi_dot**2) + 2(theta_dot)(phi_dot)(np.cos(theta-phi)))\n",
      "/var/folders/g6/0x4mf2h529s2pftxt2wp36n00000gn/T/ipykernel_15555/3079704846.py:14: SyntaxWarning: 'int' object is not callable; perhaps you missed a comma?\n",
      "  T=0.5(M)(l**2)((theta)**2)+0.5(m)(l**2)(((theta_dot**2)) +(phi_dot**2) + 2(theta_dot)(phi_dot)(np.cos(theta-phi)))\n",
      "/var/folders/g6/0x4mf2h529s2pftxt2wp36n00000gn/T/ipykernel_15555/3079704846.py:14: SyntaxWarning: 'float' object is not callable; perhaps you missed a comma?\n",
      "  T=0.5(M)(l**2)((theta)**2)+0.5(m)(l**2)(((theta_dot**2)) +(phi_dot**2) + 2(theta_dot)(phi_dot)(np.cos(theta-phi)))\n",
      "/var/folders/g6/0x4mf2h529s2pftxt2wp36n00000gn/T/ipykernel_15555/3079704846.py:14: SyntaxWarning: 'float' object is not callable; perhaps you missed a comma?\n",
      "  T=0.5(M)(l**2)((theta)**2)+0.5(m)(l**2)(((theta_dot**2)) +(phi_dot**2) + 2(theta_dot)(phi_dot)(np.cos(theta-phi)))\n",
      "/var/folders/g6/0x4mf2h529s2pftxt2wp36n00000gn/T/ipykernel_15555/3079704846.py:14: SyntaxWarning: 'int' object is not callable; perhaps you missed a comma?\n",
      "  T=0.5(M)(l**2)((theta)**2)+0.5(m)(l**2)(((theta_dot**2)) +(phi_dot**2) + 2(theta_dot)(phi_dot)(np.cos(theta-phi)))\n"
     ]
    },
    {
     "ename": "TypeError",
     "evalue": "'float' object is not callable",
     "output_type": "error",
     "traceback": [
      "\u001b[0;31m---------------------------------------------------------------------------\u001b[0m",
      "\u001b[0;31mTypeError\u001b[0m                                 Traceback (most recent call last)",
      "\u001b[1;32m/Users/jacobkianovsky/double-pendulum/Lagrangian-and-ELeqns.ipynb Cell 2\u001b[0m line \u001b[0;36m<cell line: 14>\u001b[0;34m()\u001b[0m\n\u001b[1;32m     <a href='vscode-notebook-cell:/Users/jacobkianovsky/double-pendulum/Lagrangian-and-ELeqns.ipynb#W1sZmlsZQ%3D%3D?line=10'>11</a>\u001b[0m t\u001b[39m=\u001b[39m \u001b[39m10\u001b[39m \u001b[39m#time\u001b[39;00m\n\u001b[1;32m     <a href='vscode-notebook-cell:/Users/jacobkianovsky/double-pendulum/Lagrangian-and-ELeqns.ipynb#W1sZmlsZQ%3D%3D?line=11'>12</a>\u001b[0m g\u001b[39m=\u001b[39m\u001b[39m9.81\u001b[39m \u001b[39m#m/s^2\u001b[39;00m\n\u001b[0;32m---> <a href='vscode-notebook-cell:/Users/jacobkianovsky/double-pendulum/Lagrangian-and-ELeqns.ipynb#W1sZmlsZQ%3D%3D?line=13'>14</a>\u001b[0m T\u001b[39m=\u001b[39m\u001b[39m0.5\u001b[39;49m(M)(l\u001b[39m*\u001b[39m\u001b[39m*\u001b[39m\u001b[39m2\u001b[39m)((theta)\u001b[39m*\u001b[39m\u001b[39m*\u001b[39m\u001b[39m2\u001b[39m)\u001b[39m+\u001b[39m\u001b[39m0.5\u001b[39m(m)(l\u001b[39m*\u001b[39m\u001b[39m*\u001b[39m\u001b[39m2\u001b[39m)(((theta_dot\u001b[39m*\u001b[39m\u001b[39m*\u001b[39m\u001b[39m2\u001b[39m)) \u001b[39m+\u001b[39m(phi_dot\u001b[39m*\u001b[39m\u001b[39m*\u001b[39m\u001b[39m2\u001b[39m) \u001b[39m+\u001b[39m \u001b[39m2\u001b[39m(theta_dot)(phi_dot)(np\u001b[39m.\u001b[39mcos(theta\u001b[39m-\u001b[39mphi)))\n\u001b[1;32m     <a href='vscode-notebook-cell:/Users/jacobkianovsky/double-pendulum/Lagrangian-and-ELeqns.ipynb#W1sZmlsZQ%3D%3D?line=15'>16</a>\u001b[0m U\u001b[39m=\u001b[39m\u001b[39m-\u001b[39mM\u001b[39m*\u001b[39mg\u001b[39m*\u001b[39ml(np\u001b[39m.\u001b[39mcos(theta))\u001b[39m-\u001b[39mm\u001b[39m*\u001b[39mg\u001b[39m*\u001b[39ml(np\u001b[39m.\u001b[39mcos(theta)\u001b[39m+\u001b[39mnp\u001b[39m.\u001b[39mcos(phi))\n",
      "\u001b[0;31mTypeError\u001b[0m: 'float' object is not callable"
     ]
    }
   ],
   "source": [
    "#Lagrangian\n",
    "M=1  #mass 1\n",
    "m=1    #mass 2\n",
    "l = 2 #length of pendulum arm\n",
    "theta= np.pi/4  #top pendulum angle\n",
    "# theta_dot = d(theta)/dt\n",
    "# theta_ddot = d(theta_dot)/dt\n",
    "phi= -np.pi/4 #2nd pendulum angle\n",
    "# phi_dot = d(phi)/dt\n",
    "# phi_ddot = d(phi_dot)/dt\n",
    "t= 10 #time\n",
    "g=9.81 #m/s^2\n",
    "\n",
    "T=0.5(M)(l**2)((theta)**2)+0.5(m)(l**2)(((theta_dot**2)) +(phi_dot**2) + 2(theta_dot)(phi_dot)(np.cos(theta-phi)))\n",
    "\n",
    "U=-M*g*l(np.cos(theta))-m*g*l(np.cos(theta)+np.cos(phi))"
   ]
  },
  {
   "cell_type": "code",
   "execution_count": null,
   "metadata": {},
   "outputs": [],
   "source": [
    "L=T-U\n",
    "print(L)"
   ]
  },
  {
   "cell_type": "code",
   "execution_count": null,
   "metadata": {},
   "outputs": [],
   "source": [
    "\n",
    "\n",
    "T=np.sqrt(g/l)\n",
    "t = tau(np.sqrt(g/l))\n",
    "tau=t(np.sqrt(l/g))\n",
    "\n"
   ]
  },
  {
   "cell_type": "code",
   "execution_count": null,
   "metadata": {},
   "outputs": [],
   "source": [
    "#ELeqn phi\n",
    "(((d^2)phi)/d(tau)^2) + (((d^2)theta)/d(tau)^2)np.cos(theta-phi) - ((d(theta)/d(tau))^2)(np.sin(theta-phi)) = -np.sin(phi)"
   ]
  },
  {
   "cell_type": "code",
   "execution_count": null,
   "metadata": {},
   "outputs": [],
   "source": [
    "#ELeqn theta\n",
    "\n",
    "(((d^2)theta)/d(tau)^2) + (m/(M+m))((((d^2)phi)/d(tau)^2))(np.cos(theta-phi)) + ((d(phi)/d(tau))^2)(np.sin(theta-phi)) = -np.sin(theta)"
   ]
  }
 ],
 "metadata": {
  "kernelspec": {
   "display_name": "Python 3",
   "language": "python",
   "name": "python3"
  },
  "language_info": {
   "codemirror_mode": {
    "name": "ipython",
    "version": 3
   },
   "file_extension": ".py",
   "mimetype": "text/x-python",
   "name": "python",
   "nbconvert_exporter": "python",
   "pygments_lexer": "ipython3",
   "version": "3.9.12"
  }
 },
 "nbformat": 4,
 "nbformat_minor": 2
}
