{
 "cells": [
  {
   "cell_type": "code",
   "execution_count": null,
   "metadata": {},
   "outputs": [],
   "source": [
    "import numpy as np"
   ]
  },
  {
   "cell_type": "code",
   "execution_count": null,
   "metadata": {},
   "outputs": [],
   "source": [
    "#Lagrangian\n",
    "M='mass_1'\n",
    "m='mass_2'\n",
    "l='length'\n",
    "theta='angle_1'\n",
    "phi='angle_2'\n",
    "t='time'\n",
    "g=9.81\n",
    "\n",
    "T=0.5(M)(l**2)(theta**2)+0.5(m)(l**2)((((d(theta)/dt)**2)) +((d(phi)/dt)**2) + 2(d(theta)/dt)(d(phi)/dt)(np.cos(theta-phi)))\n",
    "\n",
    "U=-M*g*l(np.cos(theta))-m*g*l(np.cos(theta)+np.cos(phi))"
   ]
  },
  {
   "cell_type": "code",
   "execution_count": null,
   "metadata": {},
   "outputs": [],
   "source": [
    "L=T-U\n",
    "print(L)"
   ]
  },
  {
   "cell_type": "code",
   "execution_count": null,
   "metadata": {},
   "outputs": [],
   "source": [
    "#ELeqn phi\n",
    "\n",
    "T=np.sqrt(g/l)\n",
    "t = tau(np.sqrt(g/l))\n",
    "tau=t(np.sqrt(l/g))\n",
    "\n"
   ]
  }
 ],
 "metadata": {
  "kernelspec": {
   "display_name": "Python 3",
   "language": "python",
   "name": "python3"
  },
  "language_info": {
   "codemirror_mode": {
    "name": "ipython",
    "version": 3
   },
   "file_extension": ".py",
   "mimetype": "text/x-python",
   "name": "python",
   "nbconvert_exporter": "python",
   "pygments_lexer": "ipython3",
   "version": "3.9.12"
  }
 },
 "nbformat": 4,
 "nbformat_minor": 2
}
