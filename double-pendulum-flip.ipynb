{
 "cells": [
  {
   "cell_type": "code",
   "execution_count": null,
   "metadata": {},
   "outputs": [],
   "source": [
    "import numpy as np\n",
    "import matplotlib.pyplot as plt"
   ]
  },
  {
   "cell_type": "code",
   "execution_count": null,
   "metadata": {},
   "outputs": [],
   "source": [
    "M = 1\n",
    "m = 100\n",
    "\n",
    "theta_0 = np.linspace(-np.pi, np.pi, 1000)\n",
    "phi_0 = np.linspace(-np.pi, np.pi, 1000)\n",
    "x, y = np.meshgrid(theta_0, phi_0)\n",
    "\n",
    "U_min = M*np.cos(x) + m*np.cos(x) + m*np.cos(y)\n",
    "\n",
    "plt.contour(x, y, U_min, levels=[-M, M])"
   ]
  },
  {
   "cell_type": "code",
   "execution_count": null,
   "metadata": {},
   "outputs": [],
   "source": [
    "import numpy as np\n",
    "import matplotlib.pyplot as plt\n",
    "import pandas as pd\n",
    "from scipy.optimize import fsolve\n",
    "from scipy.integrate import odeint\n",
    "\n",
    "from multiprocessing import Pool"
   ]
  },
  {
   "cell_type": "code",
   "execution_count": null,
   "metadata": {},
   "outputs": [],
   "source": [
    "def model(x, t, w):\n",
    "    phi, theta, v_phi, v_theta = x\n",
    "    m, M = w\n",
    "    f1 = np.cos(theta-phi)\n",
    "    f2 = m/(M+m)*np.cos(theta-phi)\n",
    "    g1 = (v_theta**2)*np.sin(theta-phi) - np.sin(phi)\n",
    "    g2 = (v_phi**2)*(-m/(M+m)*np.sin(theta-phi)) - np.sin(theta)\n",
    "    a_phi = (g1-f1*g2) / (1-f1*f2)\n",
    "    a_theta = (-f2*g1+g2) / (1-f1*f2)\n",
    "    return [v_phi, v_theta, a_phi, a_theta]"
   ]
  },
  {
   "cell_type": "code",
   "execution_count": null,
   "metadata": {},
   "outputs": [],
   "source": [
    "m =  1 # kg\n",
    "M = [0.01, 0.5, 1, 2, 100] # kg\n",
    "# phi0 = [-np.pi/2, -np.pi/3, -np.pi/4, -np.pi/12, -np.pi/180, -np.pi/360, 0,  np.pi/360, np.pi/180, np.pi/12, np.pi/4, np.pi/3, np.pi/2]\n",
    "# theta0 = [-np.pi/2, -np.pi/3, -np.pi/4, -np.pi/12,  -np.pi/180, -np.pi/360, 0, np.pi/360, np.pi/180, np.pi/12, np.pi/4, np.pi/3, np.pi/2]\n",
    "phi0 = [-np.pi/2, -np.pi/360, 0, np.pi/360, np.pi/2]\n",
    "theta0 = [-np.pi/2, -np.pi/360, 0, np.pi/360, np.pi/2]\n",
    "v_phi0 = 0\n",
    "v_theta0=0\n",
    "t = np.linspace(0,100, 100)"
   ]
  },
  {
   "cell_type": "code",
   "execution_count": 4,
   "metadata": {},
   "outputs": [],
   "source": [
    "temp_phi = []\n",
    "temp_theta = []\n",
    "temp_v_phi = []\n",
    "temp_v_theta = []\n",
    "ls_k = []\n",
    "ls_l = []\n",
    "\n",
    "def func(topmass):\n",
    "\n",
    "    for k in phi0:\n",
    "        for l in theta0:\n",
    "            phi, theta, v_phi, v_theta = odeint(model, [k, l, 0, 0], t, args=([m, topmass],)).T\n",
    "            temp_phi.append(phi)\n",
    "            temp_theta.append(theta)\n",
    "            temp_v_phi.append(v_phi)\n",
    "            temp_v_theta.append(v_theta)\n",
    "            ls_k.append(k)\n",
    "            ls_l.append(l)\n",
    "    \n",
    "with Pool(4) as p:\n",
    "    p.map(func, M)"
   ]
  }
 ],
 "metadata": {
  "kernelspec": {
   "display_name": "Python 3",
   "language": "python",
   "name": "python3"
  },
  "language_info": {
   "codemirror_mode": {
    "name": "ipython",
    "version": 3
   },
   "file_extension": ".py",
   "mimetype": "text/x-python",
   "name": "python",
   "nbconvert_exporter": "python",
   "pygments_lexer": "ipython3",
   "version": "3.10.5"
  }
 },
 "nbformat": 4,
 "nbformat_minor": 2
}
